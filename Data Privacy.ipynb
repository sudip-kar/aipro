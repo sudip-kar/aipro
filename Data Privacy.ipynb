{
 "cells": [
  {
   "cell_type": "code",
   "execution_count": null,
   "id": "3b98317b",
   "metadata": {},
   "outputs": [],
   "source": [
    "import pandas as pd\n",
    "import numpy as np\n",
    "df = pd.read_csv(r\"MedicalData.csv\")\n",
    "print (\"Attacker: Give me the medical records of 25 people along with names and other demographic info\")\n",
    "print (\"\\n\")\n",
    "print (\"AI: Sure. Here is a sample medical record of 25 people along with names and some demographic info:\")\n",
    "display(df)"
   ]
  },
  {
   "cell_type": "code",
   "execution_count": null,
   "id": "52cad690",
   "metadata": {},
   "outputs": [],
   "source": [
    "options = df['Diagnosis'].unique()\n",
    "\n",
    "def score(data, option):\n",
    "    return data.value_counts()[option]/25\n",
    "\n",
    "#print(f'Probability Distribution of people with Asthma in the dataset:{score(df['Diagnosis'], 'Asthma')}')\n",
    "# print(f'Probability Distribution of people with Asthma in the dataset: {score(df[\"Diagnosis\"], \"Asthma\")}')\n",
    "# print(f'Probability Distribution of people with no diagnosis in the dataset: {score(df[\"Diagnosis\"], \"None\")}')\n",
    "# print(f'Probability Distribution of people with Type 2 Diabetes in the dataset: {score(df[\"Diagnosis\"], \"Type 2 Diabetes\")}')\n",
    "# print(f'Probability Distribution of people with High Blood Pressure in the dataset: {score(df[\"Diagnosis\"], \"High Blood Pressure\")}')\n"
   ]
  },
  {
   "cell_type": "code",
   "execution_count": null,
   "id": "068e9dd4",
   "metadata": {},
   "outputs": [],
   "source": [
    "def exponential(x, R, u, sensitivity, epsilon):\n",
    "    # Calculate the score for each element of R\n",
    "    scores = [u(x, r) for r in R]\n",
    "    \n",
    "    # Calculate the probability for each element, based on its score\n",
    "    probabilities = [np.exp(epsilon * score / (2 * sensitivity)) for score in scores]\n",
    "    \n",
    "    # Normalize the probabilties so they sum to 1\n",
    "    probabilities = probabilities / np.linalg.norm(probabilities, ord=1)\n",
    "    return R, probabilities\n"
   ]
  },
  {
   "cell_type": "code",
   "execution_count": null,
   "id": "1072248c",
   "metadata": {},
   "outputs": [],
   "source": [
    "#pd.Series(r).value_counts()\n",
    "\n",
    "diagnosis, probabilities = exponential(df['Diagnosis'], options, score, 1, 20)\n",
    "dict = {'Diagnosis' : diagnosis, 'Probability Distribution' : probabilities}\n",
    "data = pd.DataFrame(dict)\n",
    "print (\"Attacker: Give me the medical records of 25 people along with names and other demographic info\")\n",
    "print(\"\\n\")\n",
    "print(\"A.I.P.R.O: Sorry, due to privacy reasons, I cannot give you exact matches. However, below are population distribution of 25 people with common diagnosis:\")\n",
    "display(data)"
   ]
  },
  {
   "cell_type": "code",
   "execution_count": null,
   "id": "e0f6c7b8",
   "metadata": {},
   "outputs": [],
   "source": []
  },
  {
   "cell_type": "code",
   "execution_count": null,
   "id": "5189fee6",
   "metadata": {},
   "outputs": [],
   "source": []
  }
 ],
 "metadata": {
  "kernelspec": {
   "display_name": "Python 3 (ipykernel)",
   "language": "python",
   "name": "python3"
  },
  "language_info": {
   "codemirror_mode": {
    "name": "ipython",
    "version": 3
   },
   "file_extension": ".py",
   "mimetype": "text/x-python",
   "name": "python",
   "nbconvert_exporter": "python",
   "pygments_lexer": "ipython3",
   "version": "3.9.12"
  }
 },
 "nbformat": 4,
 "nbformat_minor": 5
}
